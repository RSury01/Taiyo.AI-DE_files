{
  "nbformat": 4,
  "nbformat_minor": 0,
  "metadata": {
    "colab": {
      "provenance": []
    },
    "kernelspec": {
      "name": "python3",
      "display_name": "Python 3"
    },
    "language_info": {
      "name": "python"
    }
  },
  "cells": [
    {
      "cell_type": "markdown",
      "source": [
        "Importing the required Libraries"
      ],
      "metadata": {
        "id": "RZPOcJzHCCAP"
      }
    },
    {
      "cell_type": "code",
      "execution_count": null,
      "metadata": {
        "colab": {
          "base_uri": "https://localhost:8080/"
        },
        "id": "9JtbbpRJ_oq-",
        "outputId": "5ee1bbaf-259d-4847-c287-d064f4c0f07c"
      },
      "outputs": [
        {
          "output_type": "stream",
          "name": "stdout",
          "text": [
            "Looking in indexes: https://pypi.org/simple, https://us-python.pkg.dev/colab-wheels/public/simple/\n",
            "Collecting trafilatura\n",
            "  Downloading trafilatura-1.4.1-py3-none-any.whl (1.0 MB)\n",
            "\u001b[2K     \u001b[90m━━━━━━━━━━━━━━━━━━━━━━━━━━━━━━━━━━━━━━━━\u001b[0m \u001b[32m1.0/1.0 MB\u001b[0m \u001b[31m8.1 MB/s\u001b[0m eta \u001b[36m0:00:00\u001b[0m\n",
            "\u001b[?25hCollecting htmldate>=1.4.1\n",
            "  Downloading htmldate-1.4.1-py3-none-any.whl (33 kB)\n",
            "Collecting urllib3<2,>=1.26\n",
            "  Downloading urllib3-1.26.14-py2.py3-none-any.whl (140 kB)\n",
            "\u001b[2K     \u001b[90m━━━━━━━━━━━━━━━━━━━━━━━━━━━━━━━━━━━━━━━\u001b[0m \u001b[32m140.6/140.6 KB\u001b[0m \u001b[31m6.0 MB/s\u001b[0m eta \u001b[36m0:00:00\u001b[0m\n",
            "\u001b[?25hCollecting courlan>=0.8.3\n",
            "  Downloading courlan-0.8.3-py3-none-any.whl (34 kB)\n",
            "Collecting justext>=3.0.0\n",
            "  Downloading jusText-3.0.0-py2.py3-none-any.whl (837 kB)\n",
            "\u001b[2K     \u001b[90m━━━━━━━━━━━━━━━━━━━━━━━━━━━━━━━━━━━━━━\u001b[0m \u001b[32m837.8/837.8 KB\u001b[0m \u001b[31m24.5 MB/s\u001b[0m eta \u001b[36m0:00:00\u001b[0m\n",
            "\u001b[?25hRequirement already satisfied: certifi in /usr/local/lib/python3.8/dist-packages (from trafilatura) (2022.12.7)\n",
            "Requirement already satisfied: lxml>=4.9.2 in /usr/local/lib/python3.8/dist-packages (from trafilatura) (4.9.2)\n",
            "Collecting charset-normalizer>=3.0.1\n",
            "  Downloading charset_normalizer-3.0.1-cp38-cp38-manylinux_2_17_x86_64.manylinux2014_x86_64.whl (195 kB)\n",
            "\u001b[2K     \u001b[90m━━━━━━━━━━━━━━━━━━━━━━━━━━━━━━━━━━━━━━\u001b[0m \u001b[32m195.4/195.4 KB\u001b[0m \u001b[31m11.8 MB/s\u001b[0m eta \u001b[36m0:00:00\u001b[0m\n",
            "\u001b[?25hCollecting tld>=0.12.6\n",
            "  Downloading tld-0.12.7-py38-none-any.whl (263 kB)\n",
            "\u001b[2K     \u001b[90m━━━━━━━━━━━━━━━━━━━━━━━━━━━━━━━━━━━━━━\u001b[0m \u001b[32m263.1/263.1 KB\u001b[0m \u001b[31m12.3 MB/s\u001b[0m eta \u001b[36m0:00:00\u001b[0m\n",
            "\u001b[?25hRequirement already satisfied: langcodes>=3.3.0 in /usr/local/lib/python3.8/dist-packages (from courlan>=0.8.3->trafilatura) (3.3.0)\n",
            "Requirement already satisfied: python-dateutil>=2.8.2 in /usr/local/lib/python3.8/dist-packages (from htmldate>=1.4.1->trafilatura) (2.8.2)\n",
            "Collecting dateparser>=1.1.2\n",
            "  Downloading dateparser-1.1.7-py2.py3-none-any.whl (293 kB)\n",
            "\u001b[2K     \u001b[90m━━━━━━━━━━━━━━━━━━━━━━━━━━━━━━━━━━━━━━\u001b[0m \u001b[32m293.4/293.4 KB\u001b[0m \u001b[31m18.3 MB/s\u001b[0m eta \u001b[36m0:00:00\u001b[0m\n",
            "\u001b[?25hRequirement already satisfied: tzlocal in /usr/local/lib/python3.8/dist-packages (from dateparser>=1.1.2->htmldate>=1.4.1->trafilatura) (1.5.1)\n",
            "Requirement already satisfied: regex!=2019.02.19,!=2021.8.27 in /usr/local/lib/python3.8/dist-packages (from dateparser>=1.1.2->htmldate>=1.4.1->trafilatura) (2022.6.2)\n",
            "Requirement already satisfied: pytz in /usr/local/lib/python3.8/dist-packages (from dateparser>=1.1.2->htmldate>=1.4.1->trafilatura) (2022.7.1)\n",
            "Requirement already satisfied: six>=1.5 in /usr/local/lib/python3.8/dist-packages (from python-dateutil>=2.8.2->htmldate>=1.4.1->trafilatura) (1.15.0)\n",
            "Installing collected packages: charset-normalizer, urllib3, tld, justext, dateparser, courlan, htmldate, trafilatura\n",
            "  Attempting uninstall: charset-normalizer\n",
            "    Found existing installation: charset-normalizer 2.1.1\n",
            "    Uninstalling charset-normalizer-2.1.1:\n",
            "      Successfully uninstalled charset-normalizer-2.1.1\n",
            "  Attempting uninstall: urllib3\n",
            "    Found existing installation: urllib3 1.24.3\n",
            "    Uninstalling urllib3-1.24.3:\n",
            "      Successfully uninstalled urllib3-1.24.3\n",
            "\u001b[31mERROR: pip's dependency resolver does not currently take into account all the packages that are installed. This behaviour is the source of the following dependency conflicts.\n",
            "aiohttp 3.8.3 requires charset-normalizer<3.0,>=2.0, but you have charset-normalizer 3.0.1 which is incompatible.\u001b[0m\u001b[31m\n",
            "\u001b[0mSuccessfully installed charset-normalizer-3.0.1 courlan-0.8.3 dateparser-1.1.7 htmldate-1.4.1 justext-3.0.0 tld-0.12.7 trafilatura-1.4.1 urllib3-1.26.14\n"
          ]
        }
      ],
      "source": [
        "pip install trafilatura"
      ]
    },
    {
      "cell_type": "code",
      "source": [
        "import numpy as np\n",
        "import spacy\n",
        "import requests\n",
        "import trafilatura\n",
        "import json\n",
        "import pandas as pd\n",
        "import bs4\n",
        "from bs4 import BeautifulSoup\n",
        "from requests.models import MissingSchema\n",
        "import requests"
      ],
      "metadata": {
        "colab": {
          "base_uri": "https://localhost:8080/"
        },
        "id": "wNiMSSD0NP8o",
        "outputId": "a7c71703-bbe2-4659-e408-0cb76c6f4663"
      },
      "execution_count": null,
      "outputs": [
        {
          "output_type": "stream",
          "name": "stderr",
          "text": [
            "/usr/local/lib/python3.8/dist-packages/torch/cuda/__init__.py:497: UserWarning: Can't initialize NVML\n",
            "  warnings.warn(\"Can't initialize NVML\")\n"
          ]
        }
      ]
    },
    {
      "cell_type": "code",
      "source": [
        "pip install beautifulsoup4"
      ],
      "metadata": {
        "colab": {
          "base_uri": "https://localhost:8080/"
        },
        "id": "bnDV0Os_Nh3u",
        "outputId": "7507e605-2d28-4419-f1df-d538f18bfc98"
      },
      "execution_count": null,
      "outputs": [
        {
          "output_type": "stream",
          "name": "stdout",
          "text": [
            "Looking in indexes: https://pypi.org/simple, https://us-python.pkg.dev/colab-wheels/public/simple/\n",
            "Requirement already satisfied: beautifulsoup4 in /usr/local/lib/python3.8/dist-packages (4.6.3)\n"
          ]
        }
      ]
    },
    {
      "cell_type": "markdown",
      "source": [
        "Extracting Texts using Beautifulsoup4"
      ],
      "metadata": {
        "id": "u1ediWrMCgXX"
      }
    },
    {
      "cell_type": "code",
      "source": [
        "from urllib.request import urlopen\n",
        "from bs4 import BeautifulSoup\n",
        "\n",
        "url = \"https://etenders.gov.in/eprocure/app\"\n",
        "html = urlopen(url).read()\n",
        "soup = BeautifulSoup(html, features=\"html.parser\")\n",
        "\n",
        "# kill all script and style elements\n",
        "for script in soup([\"script\", \"style\"]):\n",
        "    script.extract()    # rip it out\n",
        "\n",
        "# get text\n",
        "text = soup.get_text()\n",
        "\n",
        "# break into lines and remove leading and trailing space on each\n",
        "lines = (line.strip() for line in text.splitlines())\n",
        "# break multi-headlines into a line each\n",
        "chunks = (phrase.strip() for line in lines for phrase in line.split(\"  \"))\n",
        "# drop blank lines\n",
        "text = '\\n'.join(chunk for chunk in chunks if chunk)\n",
        "\n",
        "print(text)"
      ],
      "metadata": {
        "colab": {
          "base_uri": "https://localhost:8080/"
        },
        "id": "ihyY3LkmNb0P",
        "outputId": "1bc9b37b-51a6-4513-997d-2ff22e719119"
      },
      "execution_count": null,
      "outputs": [
        {
          "output_type": "stream",
          "name": "stdout",
          "text": [
            "Government eProcurement System\n",
            "eProcurement System\n",
            "Screen Reader Access\n",
            "07-Feb-2023\n",
            "Search\n",
            "|\n",
            "Active Tenders\n",
            "|\n",
            "Tenders by Closing Date\n",
            "|\n",
            "Corrigendum\n",
            "|\n",
            "Results of Tenders\n",
            "« Configuration required for Edge Browser\n",
            "MIS Reports\n",
            "Tenders by Location\n",
            "Tenders by Organisation\n",
            "Tenders by Classification\n",
            "Tenders in Archive\n",
            "Tenders Status\n",
            "Cancelled/Retendered\n",
            "Downloads\n",
            "Debarment List\n",
            "Announcements\n",
            "Awards\n",
            "Site compatibility\n",
            "Welcome to eProcurement System\n",
            "The eProcurement System enables the Tenderers to download the Tender Schedule free of cost and then submit the bids online through this portal.\n",
            "Tender Title\n",
            "Reference No\n",
            "Closing Date\n",
            "Bid Opening Date\n",
            "1. Improvement and maintenance of various public toilets\n",
            "EE(M)-III/CNZ/2022-23/27-03\n",
            "13-Feb-2023 03:00 PM\n",
            "13-Feb-2023 03:30 PM\n",
            "2. T-02306-206/\n",
            "SLA BASED OFC MTC/UJJAIN oA\n",
            "T-02306-206/\n",
            "SLA BASED OFC MTC/UJJAIN\n",
            "OA\n",
            "27-Feb-2023 01:00 PM\n",
            "28-Feb-2023 01:00 PM\n",
            "3. Supply and Installation of High-End Stereozoom Trinocular Microscope\n",
            "3(POQ)/138/21-22/PUR/T-49\n",
            "28-Feb-2023 04:30 PM\n",
            "01-Mar-2023 04:30 PM\n",
            "4. Laying of OFC in Balasore Zone\n",
            "N-35/2022-23/01\n",
            "28-Feb-2023 03:00 PM\n",
            "01-Mar-2023 04:00 PM\n",
            "5. Installation of Shade Net house at Vasant Vihar Nursery in Ward No.153 South Zone\n",
            "DDH/SZ/ MCD/2022-23/3410/ NIT No.01\n",
            "14-Feb-2023 03:30 PM\n",
            "15-Feb-2023 03:30 PM\n",
            "6. Laying of OFC in Jaleswar Zone\n",
            "N-35/2022-23/01\n",
            "28-Feb-2023 03:00 PM\n",
            "01-Mar-2023 04:00 PM\n",
            "7. Tender for Rate Contract for the period of 2 (Two) years for comprehensive AMC of CCTV, materials required during AMC period for installed CCTV and to upgrade existing CCTV HD cameras to IP cameras installed at MNGL MS, NRO CNG Stations.\n",
            "MNGL/CP/2022-23/198\n",
            "21-Feb-2023 03:00 PM\n",
            "22-Feb-2023 04:00 PM\n",
            "8. EEE/SZ/2022-23/46-1\n",
            "EEE/SZ/2022-23/46\n",
            "15-Feb-2023 10:00 AM\n",
            "15-Feb-2023 12:00 PM\n",
            "9. Supply of Junction Box 3-T\n",
            "EnquiryNo.0700/8350/2023\n",
            "14-Feb-2023 03:00 PM\n",
            "14-Feb-2023 03:00 PM\n",
            "10. PUR/4/22-23/452/AARTI/PO\n",
            "PUR/4/22-23/425/SPD/AARTI/PO\n",
            "14-Feb-2023 03:00 PM\n",
            "15-Feb-2023 03:00 PM\n",
            "Latest Tenders updates every 15 mins.\n",
            "More...\n",
            "Corrigendum Title\n",
            "Reference No\n",
            "Closing Date\n",
            "Bid Opening Date\n",
            "1. Corrigendum No 1\n",
            "2022/RITES/EXPO/NRZ/DEMU/3/F/1\n",
            "21-Feb-2023 11:00 AM\n",
            "22-Feb-2023 11:30 AM\n",
            "2. DATE EXPAND\n",
            "9-08/PUR/SKP/22-23/P-50(68)\n",
            "22-Feb-2023 12:30 PM\n",
            "23-Feb-2023 01:00 PM\n",
            "3. EXTENSION OF BID DUE DATE\n",
            "NHAI/BM/Varanasi-Kolkata/ Pkg2/2022\n",
            "21-Feb-2023 11:00 AM\n",
            "22-Feb-2023 11:30 AM\n",
            "4. EXTENSION OF BID DUE DATE\n",
            "NHAI/BM/Varanasi-Kolkata/ Pkg3/2022\n",
            "21-Feb-2023 11:00 AM\n",
            "22-Feb-2023 11:30 AM\n",
            "5. EXTENSION OF BID DUE DATE\n",
            "NHAI/BM/Varanasi-Kolkata/ Pkg6/2022\n",
            "21-Feb-2023 11:00 AM\n",
            "22-Feb-2023 11:30 AM\n",
            "6. EXTENSION OF BID DUE DATE\n",
            "NHAI/BM/Varanasi-Kolkata/ Pkg7/2022\n",
            "21-Feb-2023 11:00 AM\n",
            "22-Feb-2023 11:30 AM\n",
            "7. EXTENSION OF BID DUE DATE\n",
            "NHAI/BM/Varanasi-Kolkata/ Pkg1/2022\n",
            "21-Feb-2023 11:00 AM\n",
            "22-Feb-2023 11:30 AM\n",
            "8. Corrigendum 1\n",
            "M-ISO/IMS/ACIQEO/2023\n",
            "27-Feb-2023 03:00 PM\n",
            "28-Feb-2023 03:30 PM\n",
            "9. SOME MODIFICATIONS IN TECHNICAL SPECIFICATION\n",
            "9-08/PUR/SKP/22-23/P-50(68)\n",
            "22-Feb-2023 12:30 PM\n",
            "23-Feb-2023 01:00 PM\n",
            "10. Extension of bid submission due date\n",
            "C-2(b)/RC/602/3415/2023\n",
            "13-Feb-2023 02:30 PM\n",
            "13-Feb-2023 03:00 PM\n",
            "Latest Corrigendum updates every 15 mins.\n",
            "More...\n",
            "Certifying Agency\n",
            "Your browser JavaScript has been disabled. Kindly enable script for further process.\n",
            "Online Bidder Enrollment\n",
            "Online Bidder Enrollment\n",
            "Generate / Forgot Password?\n",
            "Generate / Forgot Password?\n",
            "Find My Nodal Officer\n",
            "Search with ID/Title/Reference no\n",
            "Advanced Search\n",
            "Help For Contractors\n",
            "Information About DSC\n",
            "Guidelines for Hassle Free Bid Submission\n",
            "FAQ\n",
            "Feedback\n",
            "Bidders Manual Kit\n",
            "Visitor No:3791839\n",
            "Contents owned and maintained by concerned Departments in coordination with Finance Department and Information Technology Department, Government of India\n",
            "Designed, Developed and Hosted by National Informatics Centre\n",
            "Version : 1.09.18 04-Feb-2023\n",
            "(c) 2017 Tenders NIC, All rights reserved.Site best viewed in IE 10 and above, with a screen resolution 1024 x 768.\n",
            "Portal policies\n"
          ]
        }
      ]
    }
  ]
}